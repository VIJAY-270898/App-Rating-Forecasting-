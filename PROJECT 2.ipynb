{
 "cells": [
  {
   "cell_type": "markdown",
   "id": "a3ac228f-4016-44f2-b574-663ba4f3b75f",
   "metadata": {},
   "source": [
    "## App Rating Forecasting "
   ]
  },
  {
   "cell_type": "code",
   "execution_count": null,
   "id": "7f39ee00-589a-47ff-b636-122591b76225",
   "metadata": {},
   "outputs": [],
   "source": [
    "import pandas as pd\n",
    "import numpy as np\n",
    "import seaborn as sns"
   ]
  },
  {
   "cell_type": "code",
   "execution_count": 3,
   "id": "abe9870f-88d5-4b98-96bf-dcf93e0a9350",
   "metadata": {},
   "outputs": [],
   "source": [
    "df=pd.read_csv('Apps_data+(1).csv',usecols=['Rating','Reviews','Size','Installs'])"
   ]
  },
  {
   "cell_type": "code",
   "execution_count": 4,
   "id": "0f68d87a-b8be-4d98-86bc-36690d65086a",
   "metadata": {},
   "outputs": [
    {
     "data": {
      "text/html": [
       "<div>\n",
       "<style scoped>\n",
       "    .dataframe tbody tr th:only-of-type {\n",
       "        vertical-align: middle;\n",
       "    }\n",
       "\n",
       "    .dataframe tbody tr th {\n",
       "        vertical-align: top;\n",
       "    }\n",
       "\n",
       "    .dataframe thead th {\n",
       "        text-align: right;\n",
       "    }\n",
       "</style>\n",
       "<table border=\"1\" class=\"dataframe\">\n",
       "  <thead>\n",
       "    <tr style=\"text-align: right;\">\n",
       "      <th></th>\n",
       "      <th>Rating</th>\n",
       "      <th>Reviews</th>\n",
       "      <th>Size</th>\n",
       "      <th>Installs</th>\n",
       "    </tr>\n",
       "  </thead>\n",
       "  <tbody>\n",
       "    <tr>\n",
       "      <th>0</th>\n",
       "      <td>4.1</td>\n",
       "      <td>159</td>\n",
       "      <td>19M</td>\n",
       "      <td>10,000+</td>\n",
       "    </tr>\n",
       "    <tr>\n",
       "      <th>1</th>\n",
       "      <td>3.9</td>\n",
       "      <td>967</td>\n",
       "      <td>14M</td>\n",
       "      <td>500,000+</td>\n",
       "    </tr>\n",
       "    <tr>\n",
       "      <th>2</th>\n",
       "      <td>4.7</td>\n",
       "      <td>87510</td>\n",
       "      <td>8.7M</td>\n",
       "      <td>5,000,000+</td>\n",
       "    </tr>\n",
       "  </tbody>\n",
       "</table>\n",
       "</div>"
      ],
      "text/plain": [
       "   Rating Reviews  Size    Installs\n",
       "0     4.1     159   19M     10,000+\n",
       "1     3.9     967   14M    500,000+\n",
       "2     4.7   87510  8.7M  5,000,000+"
      ]
     },
     "execution_count": 4,
     "metadata": {},
     "output_type": "execute_result"
    }
   ],
   "source": [
    "df.head(3)"
   ]
  },
  {
   "cell_type": "markdown",
   "id": "3ccb9266-4206-4be2-83d7-44a94d8cc322",
   "metadata": {},
   "source": [
    "#### Creating the TARGET column and separating it as two classes"
   ]
  },
  {
   "cell_type": "code",
   "execution_count": 9,
   "id": "07f5e1d0-e30d-409f-89c8-0afc8c37d83f",
   "metadata": {},
   "outputs": [],
   "source": [
    "df['Target']=df['Rating'].astype('O')"
   ]
  },
  {
   "cell_type": "code",
   "execution_count": 11,
   "id": "b1f114b4-1618-4589-bbe0-dbd1715fffe1",
   "metadata": {},
   "outputs": [],
   "source": [
    "df.loc[df['Rating']>=4,['Target']]='High'   # with logistic our positive class will always be 1 but when encoding this high will go \n",
    "df.loc[df['Rating']<4,['Target']]='Low'     # for 0 and low will go for 1 - so can mention here itself can mention '1high','olow'\n",
    "df.drop(columns='Rating',inplace=True)     # so that high will be positive class"
   ]
  },
  {
   "cell_type": "code",
   "execution_count": 19,
   "id": "0db0bbb0-b2a0-438d-8e09-4daf65030d2a",
   "metadata": {},
   "outputs": [
    {
     "data": {
      "text/plain": [
       "Reviews\n",
       "0         596\n",
       "1         272\n",
       "2         214\n",
       "3         175\n",
       "4         137\n",
       "         ... \n",
       "342912      1\n",
       "4272        1\n",
       "5517        1\n",
       "4057        1\n",
       "398307      1\n",
       "Name: count, Length: 6002, dtype: int64"
      ]
     },
     "execution_count": 19,
     "metadata": {},
     "output_type": "execute_result"
    }
   ],
   "source": [
    "df['Reviews'].unique()\n",
    "df['Reviews'].value_counts()"
   ]
  },
  {
   "cell_type": "code",
   "execution_count": 16,
   "id": "0bc765c1-be24-4694-b233-076880ba12d6",
   "metadata": {},
   "outputs": [],
   "source": [
    "# df['Reviews'].astype('int')    # invalid literal for int() with base 10: '3.0M' -- should clean as there is a string \n",
    "# which is not letting to convert should clean the data first"
   ]
  },
  {
   "cell_type": "code",
   "execution_count": 33,
   "id": "7b537702-22bd-4dbe-856e-18e62b6f5749",
   "metadata": {},
   "outputs": [],
   "source": [
    "#df['Reviews'].replace('M','*1000000',regex=True).map(eval).astype('int')   # when used replace alone should change regex to true"
   ]
  },
  {
   "cell_type": "code",
   "execution_count": 27,
   "id": "23353598-8b53-45d8-95e4-fbf70c8f56df",
   "metadata": {},
   "outputs": [],
   "source": [
    "df['Reviews']=df['Reviews'].str.replace('M','*1000000').map(eval).astype('int')"
   ]
  },
  {
   "cell_type": "code",
   "execution_count": 25,
   "id": "9bd007ff-13ea-4cae-b78b-7063f3334453",
   "metadata": {},
   "outputs": [
    {
     "data": {
      "text/html": [
       "<div>\n",
       "<style scoped>\n",
       "    .dataframe tbody tr th:only-of-type {\n",
       "        vertical-align: middle;\n",
       "    }\n",
       "\n",
       "    .dataframe tbody tr th {\n",
       "        vertical-align: top;\n",
       "    }\n",
       "\n",
       "    .dataframe thead th {\n",
       "        text-align: right;\n",
       "    }\n",
       "</style>\n",
       "<table border=\"1\" class=\"dataframe\">\n",
       "  <thead>\n",
       "    <tr style=\"text-align: right;\">\n",
       "      <th></th>\n",
       "      <th>Reviews</th>\n",
       "      <th>Size</th>\n",
       "      <th>Installs</th>\n",
       "      <th>Target</th>\n",
       "    </tr>\n",
       "  </thead>\n",
       "  <tbody>\n",
       "  </tbody>\n",
       "</table>\n",
       "</div>"
      ],
      "text/plain": [
       "Empty DataFrame\n",
       "Columns: [Reviews, Size, Installs, Target]\n",
       "Index: []"
      ]
     },
     "execution_count": 25,
     "metadata": {},
     "output_type": "execute_result"
    }
   ],
   "source": [
    "df[df['Installs']=='Free']  # the row itself is wrong row -- "
   ]
  },
  {
   "cell_type": "code",
   "execution_count": 24,
   "id": "d2718bcd-ba1b-43d6-b12a-ba47f504e9de",
   "metadata": {},
   "outputs": [],
   "source": [
    "df.loc[df['Installs']=='Free',['Installs']] = 'nan'  # when typed float(nan) this get to nan -- as converting the column to float taking this as nan\n"
   ]
  },
  {
   "cell_type": "code",
   "execution_count": 28,
   "id": "d61ccf20-f6c0-467b-97f3-2665ce6d2d41",
   "metadata": {},
   "outputs": [
    {
     "data": {
      "text/plain": [
       "(10841, 4)"
      ]
     },
     "execution_count": 28,
     "metadata": {},
     "output_type": "execute_result"
    }
   ],
   "source": [
    "df.shape"
   ]
  },
  {
   "cell_type": "code",
   "execution_count": 29,
   "id": "21e68539-9cca-4559-986f-03e4bed085fd",
   "metadata": {},
   "outputs": [
    {
     "data": {
      "text/plain": [
       "(10840, 4)"
      ]
     },
     "execution_count": 29,
     "metadata": {},
     "output_type": "execute_result"
    }
   ],
   "source": [
    "df['Installs'] = df['Installs'].str.replace('+', '').str.replace(',', '').astype('float')\n",
    "df.dropna(subset = 'Installs', inplace= True)\n",
    "df.shape"
   ]
  },
  {
   "cell_type": "code",
   "execution_count": 30,
   "id": "61dd2cff-3927-49af-a4af-7271125872a7",
   "metadata": {},
   "outputs": [],
   "source": [
    "# one row is been removed"
   ]
  },
  {
   "cell_type": "code",
   "execution_count": null,
   "id": "71105943-c65d-40c2-9ddf-2c02b0f56f71",
   "metadata": {},
   "outputs": [],
   "source": [
    "# WHY REGEX TRUE\n",
    "# IF U WANT TO FIND A PATTERN IN A ROW (INFORMATION IS VIJAY@GMAIL.COM) -- \n",
    "# HERE WANT TO TAKE ONLY THE EMAIL ALONE HERE WILL GIVE THE REGEX PATTERN AND FOR THAT NEED TO USE REGEX TREU"
   ]
  },
  {
   "cell_type": "code",
   "execution_count": 49,
   "id": "98ec18a3-6ddb-4102-85a1-fa7db64cc9c0",
   "metadata": {},
   "outputs": [],
   "source": [
    "from sklearn.preprocessing import LabelEncoder\n",
    "from sklearn.linear_model import LogisticRegression"
   ]
  },
  {
   "cell_type": "code",
   "execution_count": 46,
   "id": "00c7a8b7-784c-4fab-96f3-33d58dbb6d99",
   "metadata": {},
   "outputs": [],
   "source": [
    "# logistcregressioncv will (CV)- cross validation   # cs and l1 ratio changes and train test split"
   ]
  },
  {
   "cell_type": "code",
   "execution_count": 42,
   "id": "31a9b4fa-96d1-44e4-8f2c-a406f6baa71b",
   "metadata": {},
   "outputs": [
    {
     "data": {
      "text/plain": [
       "Reviews        0\n",
       "Size           0\n",
       "Installs       0\n",
       "Target      1474\n",
       "dtype: int64"
      ]
     },
     "execution_count": 42,
     "metadata": {},
     "output_type": "execute_result"
    }
   ],
   "source": [
    "df.isnull().sum()"
   ]
  },
  {
   "cell_type": "code",
   "execution_count": 44,
   "id": "912f3e12-dd1c-4660-8370-bd1694539c0c",
   "metadata": {},
   "outputs": [],
   "source": [
    "df.dropna(inplace=True)"
   ]
  },
  {
   "cell_type": "code",
   "execution_count": 45,
   "id": "df4537a6-c43d-4df6-963d-facfdf32ddc5",
   "metadata": {},
   "outputs": [],
   "source": [
    "le=LabelEncoder()"
   ]
  },
  {
   "cell_type": "code",
   "execution_count": 47,
   "id": "f09316db-38c8-4b7b-9a37-f654c59f2ad0",
   "metadata": {},
   "outputs": [],
   "source": [
    "df['Target']=le.fit_transform(df['Target'])"
   ]
  },
  {
   "cell_type": "code",
   "execution_count": 48,
   "id": "e326f2f3-6b2d-49f0-be1a-052d96c1f996",
   "metadata": {},
   "outputs": [],
   "source": [
    "y=df['Target']\n",
    "x=df.drop(columns='Target')"
   ]
  },
  {
   "cell_type": "code",
   "execution_count": 56,
   "id": "0240364f-0b4e-42fb-8b1d-4a7e4cbac81b",
   "metadata": {},
   "outputs": [],
   "source": [
    "x.drop(columns='Size',inplace=True)"
   ]
  },
  {
   "cell_type": "code",
   "execution_count": 51,
   "id": "f87e22ed-2130-47f4-8185-4c7300a63cef",
   "metadata": {},
   "outputs": [
    {
     "data": {
      "text/plain": [
       "Target\n",
       "0    7368\n",
       "1    1998\n",
       "Name: count, dtype: int64"
      ]
     },
     "execution_count": 51,
     "metadata": {},
     "output_type": "execute_result"
    }
   ],
   "source": [
    "y.value_counts()   # its a imbalanced dataset  so will not accept the score"
   ]
  },
  {
   "cell_type": "code",
   "execution_count": 52,
   "id": "ab2ec48e-b35e-486b-9f5f-42985784a3e8",
   "metadata": {},
   "outputs": [],
   "source": [
    "model1=LogisticRegression()"
   ]
  },
  {
   "cell_type": "code",
   "execution_count": 57,
   "id": "53d9500c-4bd3-4a6b-9acc-646902058b25",
   "metadata": {},
   "outputs": [
    {
     "data": {
      "text/plain": [
       "0.7869955156950673"
      ]
     },
     "execution_count": 57,
     "metadata": {},
     "output_type": "execute_result"
    }
   ],
   "source": [
    "model1.fit(x,y)\n",
    "model1.score(x,y)"
   ]
  },
  {
   "cell_type": "code",
   "execution_count": 66,
   "id": "7bd38b42-87cb-4188-a5fd-219b98ea5955",
   "metadata": {},
   "outputs": [
    {
     "data": {
      "text/plain": [
       "0.7856532877882152"
      ]
     },
     "execution_count": 66,
     "metadata": {},
     "output_type": "execute_result"
    }
   ],
   "source": [
    "from sklearn.model_selection import train_test_split\n",
    "from sklearn.metrics import confusion_matrix,classification_report\n",
    "xtrain,xtest,ytrain,ytest=train_test_split(x,y,random_state=555,stratify=y)  # stratify=y so that we get equal amount of class in train and test \n",
    "model1.fit(xtrain,ytrain)\n",
    "model1.score(xtest,ytest)"
   ]
  },
  {
   "cell_type": "code",
   "execution_count": 63,
   "id": "352ef7b4-b3fc-4bba-8cb3-47a297b19897",
   "metadata": {},
   "outputs": [
    {
     "name": "stdout",
     "output_type": "stream",
     "text": [
      "[[1805    6]\n",
      " [ 523    8]]\n",
      "              precision    recall  f1-score   support\n",
      "\n",
      "           0       0.78      1.00      0.87      1811\n",
      "           1       0.57      0.02      0.03       531\n",
      "\n",
      "    accuracy                           0.77      2342\n",
      "   macro avg       0.67      0.51      0.45      2342\n",
      "weighted avg       0.73      0.77      0.68      2342\n",
      "\n"
     ]
    }
   ],
   "source": [
    "print(confusion_matrix(ytest,model1.predict(xtest)))\n",
    "print(classification_report(ytest,model1.predict(xtest)))"
   ]
  },
  {
   "cell_type": "code",
   "execution_count": null,
   "id": "d4543725-a50f-46a4-8af9-3498355d5481",
   "metadata": {},
   "outputs": [],
   "source": [
    "# depending upon the project should decide which cl "
   ]
  },
  {
   "cell_type": "code",
   "execution_count": null,
   "id": "da3a9cff-5a27-433f-be12-84f9aaa361e4",
   "metadata": {},
   "outputs": [],
   "source": []
  },
  {
   "cell_type": "code",
   "execution_count": null,
   "id": "ecb51015-cd22-46f4-aab5-96750d75b11c",
   "metadata": {},
   "outputs": [],
   "source": [
    "# sir uses f1 score- ..?"
   ]
  },
  {
   "cell_type": "code",
   "execution_count": null,
   "id": "1a9fcf83-f687-445c-b393-20581535a655",
   "metadata": {},
   "outputs": [],
   "source": [
    "# poor f1 score in 1 class - showing that the model cannot predict the a app whether it can will get low rating or not \n",
    "# for f1 score in 0 class  - though the f1 score is high the dataset is imbalanced so cannot trust themodel "
   ]
  },
  {
   "cell_type": "code",
   "execution_count": null,
   "id": "3a72d251-2c67-4f95-96b0-76fcecbc8c21",
   "metadata": {},
   "outputs": [],
   "source": [
    "# whenever to reduce fp = will go for precision\n",
    "# whenever to reduce fn = will go for recall "
   ]
  },
  {
   "cell_type": "code",
   "execution_count": null,
   "id": "08e27809-69e4-4e31-be3e-f952ba453a03",
   "metadata": {},
   "outputs": [],
   "source": [
    "# in medical will look to reduce the FN -- AS we don't want someone having discease to show there is no disease for them "
   ]
  },
  {
   "cell_type": "code",
   "execution_count": null,
   "id": "e95e4322-a5bc-4a86-9f14-6b84b3f074d6",
   "metadata": {},
   "outputs": [],
   "source": []
  }
 ],
 "metadata": {
  "kernelspec": {
   "display_name": "Python 3 (ipykernel)",
   "language": "python",
   "name": "python3"
  },
  "language_info": {
   "codemirror_mode": {
    "name": "ipython",
    "version": 3
   },
   "file_extension": ".py",
   "mimetype": "text/x-python",
   "name": "python",
   "nbconvert_exporter": "python",
   "pygments_lexer": "ipython3",
   "version": "3.12.1"
  }
 },
 "nbformat": 4,
 "nbformat_minor": 5
}
